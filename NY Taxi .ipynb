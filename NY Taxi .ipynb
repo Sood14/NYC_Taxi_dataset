{
 "cells": [
  {
   "cell_type": "code",
   "execution_count": 1,
   "metadata": {},
   "outputs": [],
   "source": [
    "import pandas as pd\n",
    "import numpy as np\n",
    "import matplotlib.pyplot as plt\n",
    "import seaborn as sns\n",
    "import operator\n",
    "%matplotlib inline"
   ]
  },
  {
   "cell_type": "markdown",
   "metadata": {},
   "source": [
    "# Reading the Trip_Data and Trip_Fare"
   ]
  },
  {
   "cell_type": "code",
   "execution_count": 2,
   "metadata": {},
   "outputs": [
    {
     "name": "stderr",
     "output_type": "stream",
     "text": [
      "C:\\Users\\ajay\\Anaconda3\\lib\\site-packages\\IPython\\core\\interactiveshell.py:3057: DtypeWarning: Columns (4) have mixed types. Specify dtype option on import or set low_memory=False.\n",
      "  interactivity=interactivity, compiler=compiler, result=result)\n"
     ]
    }
   ],
   "source": [
    "data = pd.read_csv('trip_data_4/trip_data_4.csv') #original data 15mil lines (chunksize an option to load large data) "
   ]
  },
  {
   "cell_type": "code",
   "execution_count": 3,
   "metadata": {},
   "outputs": [],
   "source": [
    "data_short = pd.read_csv('trip_data_4/trip_data_4.csv', nrows= 1000000) #file with 1000000 lines"
   ]
  },
  {
   "cell_type": "code",
   "execution_count": 4,
   "metadata": {},
   "outputs": [],
   "source": [
    "fare = pd.read_csv('trip_fare_4/trip_fare_4.csv')"
   ]
  },
  {
   "cell_type": "code",
   "execution_count": 5,
   "metadata": {},
   "outputs": [],
   "source": [
    "fare_short  = pd.read_csv('trip_fare_4/trip_fare_4.csv', nrows = 1000000) "
   ]
  },
  {
   "cell_type": "code",
   "execution_count": 6,
   "metadata": {},
   "outputs": [
    {
     "name": "stdout",
     "output_type": "stream",
     "text": [
      "<class 'pandas.core.frame.DataFrame'>\n",
      "RangeIndex: 1000000 entries, 0 to 999999\n",
      "Data columns (total 14 columns):\n",
      "medallion              1000000 non-null object\n",
      " hack_license          1000000 non-null object\n",
      " vendor_id             1000000 non-null object\n",
      " rate_code             1000000 non-null int64\n",
      " store_and_fwd_flag    447554 non-null object\n",
      " pickup_datetime       1000000 non-null object\n",
      " dropoff_datetime      1000000 non-null object\n",
      " passenger_count       1000000 non-null int64\n",
      " trip_time_in_secs     1000000 non-null int64\n",
      " trip_distance         1000000 non-null float64\n",
      " pickup_longitude      1000000 non-null float64\n",
      " pickup_latitude       1000000 non-null float64\n",
      " dropoff_longitude     1000000 non-null float64\n",
      " dropoff_latitude      1000000 non-null float64\n",
      "dtypes: float64(5), int64(3), object(6)\n",
      "memory usage: 106.8+ MB\n"
     ]
    }
   ],
   "source": [
    "data_short.info()  "
   ]
  },
  {
   "cell_type": "code",
   "execution_count": 95,
   "metadata": {},
   "outputs": [
    {
     "data": {
      "text/plain": [
       "medallion                   0\n",
       " hack_license               0\n",
       " vendor_id                  0\n",
       " rate_code                  0\n",
       " store_and_fwd_flag    549413\n",
       " pickup_datetime            0\n",
       " dropoff_datetime           0\n",
       " passenger_count            0\n",
       " trip_time_in_secs          0\n",
       " trip_distance              0\n",
       " pickup_longitude           0\n",
       " pickup_latitude            0\n",
       " dropoff_longitude          0\n",
       " dropoff_latitude           0\n",
       "date                        0\n",
       "day                         0\n",
       "hour                        0\n",
       "pickup_coord                0\n",
       "coord_trip                  0\n",
       "fare                        0\n",
       "day_num                     0\n",
       "minute                      0\n",
       "second                      0\n",
       "tip                         0\n",
       "VTS                         0\n",
       "dtype: int64"
      ]
     },
     "execution_count": 95,
     "metadata": {},
     "output_type": "execute_result"
    }
   ],
   "source": [
    "data_short.isnull().sum()"
   ]
  },
  {
   "cell_type": "code",
   "execution_count": 7,
   "metadata": {},
   "outputs": [
    {
     "data": {
      "text/html": [
       "<div>\n",
       "<style scoped>\n",
       "    .dataframe tbody tr th:only-of-type {\n",
       "        vertical-align: middle;\n",
       "    }\n",
       "\n",
       "    .dataframe tbody tr th {\n",
       "        vertical-align: top;\n",
       "    }\n",
       "\n",
       "    .dataframe thead th {\n",
       "        text-align: right;\n",
       "    }\n",
       "</style>\n",
       "<table border=\"1\" class=\"dataframe\">\n",
       "  <thead>\n",
       "    <tr style=\"text-align: right;\">\n",
       "      <th></th>\n",
       "      <th>medallion</th>\n",
       "      <th>hack_license</th>\n",
       "      <th>vendor_id</th>\n",
       "      <th>rate_code</th>\n",
       "      <th>store_and_fwd_flag</th>\n",
       "      <th>pickup_datetime</th>\n",
       "      <th>dropoff_datetime</th>\n",
       "      <th>passenger_count</th>\n",
       "      <th>trip_time_in_secs</th>\n",
       "      <th>trip_distance</th>\n",
       "      <th>pickup_longitude</th>\n",
       "      <th>pickup_latitude</th>\n",
       "      <th>dropoff_longitude</th>\n",
       "      <th>dropoff_latitude</th>\n",
       "    </tr>\n",
       "  </thead>\n",
       "  <tbody>\n",
       "    <tr>\n",
       "      <th>0</th>\n",
       "      <td>91F6EB84975BBC867E32CB113C7C2CD5</td>\n",
       "      <td>AD8751110E6292079EB10EB9481FE1A6</td>\n",
       "      <td>CMT</td>\n",
       "      <td>1</td>\n",
       "      <td>N</td>\n",
       "      <td>2013-04-04 18:47:45</td>\n",
       "      <td>2013-04-04 19:00:25</td>\n",
       "      <td>1</td>\n",
       "      <td>759</td>\n",
       "      <td>2.5</td>\n",
       "      <td>-73.957855</td>\n",
       "      <td>40.765320</td>\n",
       "      <td>-73.976273</td>\n",
       "      <td>40.785648</td>\n",
       "    </tr>\n",
       "    <tr>\n",
       "      <th>1</th>\n",
       "      <td>EC34CD1B3797DFAFF3FE099BA87B6656</td>\n",
       "      <td>8FE6A4AEDF89B6B4E19D2377FD3FB7D7</td>\n",
       "      <td>CMT</td>\n",
       "      <td>1</td>\n",
       "      <td>N</td>\n",
       "      <td>2013-04-05 07:08:34</td>\n",
       "      <td>2013-04-05 07:17:34</td>\n",
       "      <td>1</td>\n",
       "      <td>540</td>\n",
       "      <td>1.6</td>\n",
       "      <td>0.000000</td>\n",
       "      <td>0.000000</td>\n",
       "      <td>0.000000</td>\n",
       "      <td>0.000000</td>\n",
       "    </tr>\n",
       "    <tr>\n",
       "      <th>2</th>\n",
       "      <td>C1B9DA774DC2BBC6DE27CE994E7F44A0</td>\n",
       "      <td>E1B595FD55E4C82C1E213EB17438107A</td>\n",
       "      <td>CMT</td>\n",
       "      <td>1</td>\n",
       "      <td>N</td>\n",
       "      <td>2013-04-04 17:59:50</td>\n",
       "      <td>2013-04-04 18:21:48</td>\n",
       "      <td>1</td>\n",
       "      <td>1318</td>\n",
       "      <td>3.6</td>\n",
       "      <td>-73.982880</td>\n",
       "      <td>40.754990</td>\n",
       "      <td>-74.009186</td>\n",
       "      <td>40.715374</td>\n",
       "    </tr>\n",
       "    <tr>\n",
       "      <th>3</th>\n",
       "      <td>9BA84250355AB3FC031C9252D395BF8A</td>\n",
       "      <td>16BB0D96A0DCC853AEC7F55C8D6C71E0</td>\n",
       "      <td>CMT</td>\n",
       "      <td>1</td>\n",
       "      <td>N</td>\n",
       "      <td>2013-04-04 18:12:01</td>\n",
       "      <td>2013-04-04 18:25:24</td>\n",
       "      <td>1</td>\n",
       "      <td>799</td>\n",
       "      <td>1.9</td>\n",
       "      <td>-73.978119</td>\n",
       "      <td>40.763451</td>\n",
       "      <td>-73.955666</td>\n",
       "      <td>40.776642</td>\n",
       "    </tr>\n",
       "    <tr>\n",
       "      <th>4</th>\n",
       "      <td>205A696DF62AD03C88DA8C5EC5248639</td>\n",
       "      <td>579C41EA5EC846F8B641A42F9EE3E855</td>\n",
       "      <td>CMT</td>\n",
       "      <td>1</td>\n",
       "      <td>N</td>\n",
       "      <td>2013-04-04 20:12:57</td>\n",
       "      <td>2013-04-04 20:29:55</td>\n",
       "      <td>1</td>\n",
       "      <td>1017</td>\n",
       "      <td>3.6</td>\n",
       "      <td>-74.006371</td>\n",
       "      <td>40.744755</td>\n",
       "      <td>-73.961662</td>\n",
       "      <td>40.761082</td>\n",
       "    </tr>\n",
       "  </tbody>\n",
       "</table>\n",
       "</div>"
      ],
      "text/plain": [
       "                          medallion                      hack_license  \\\n",
       "0  91F6EB84975BBC867E32CB113C7C2CD5  AD8751110E6292079EB10EB9481FE1A6   \n",
       "1  EC34CD1B3797DFAFF3FE099BA87B6656  8FE6A4AEDF89B6B4E19D2377FD3FB7D7   \n",
       "2  C1B9DA774DC2BBC6DE27CE994E7F44A0  E1B595FD55E4C82C1E213EB17438107A   \n",
       "3  9BA84250355AB3FC031C9252D395BF8A  16BB0D96A0DCC853AEC7F55C8D6C71E0   \n",
       "4  205A696DF62AD03C88DA8C5EC5248639  579C41EA5EC846F8B641A42F9EE3E855   \n",
       "\n",
       "   vendor_id   rate_code  store_and_fwd_flag      pickup_datetime  \\\n",
       "0        CMT           1                   N  2013-04-04 18:47:45   \n",
       "1        CMT           1                   N  2013-04-05 07:08:34   \n",
       "2        CMT           1                   N  2013-04-04 17:59:50   \n",
       "3        CMT           1                   N  2013-04-04 18:12:01   \n",
       "4        CMT           1                   N  2013-04-04 20:12:57   \n",
       "\n",
       "      dropoff_datetime   passenger_count   trip_time_in_secs   trip_distance  \\\n",
       "0  2013-04-04 19:00:25                 1                 759             2.5   \n",
       "1  2013-04-05 07:17:34                 1                 540             1.6   \n",
       "2  2013-04-04 18:21:48                 1                1318             3.6   \n",
       "3  2013-04-04 18:25:24                 1                 799             1.9   \n",
       "4  2013-04-04 20:29:55                 1                1017             3.6   \n",
       "\n",
       "    pickup_longitude   pickup_latitude   dropoff_longitude   dropoff_latitude  \n",
       "0         -73.957855         40.765320          -73.976273          40.785648  \n",
       "1           0.000000          0.000000            0.000000           0.000000  \n",
       "2         -73.982880         40.754990          -74.009186          40.715374  \n",
       "3         -73.978119         40.763451          -73.955666          40.776642  \n",
       "4         -74.006371         40.744755          -73.961662          40.761082  "
      ]
     },
     "execution_count": 7,
     "metadata": {},
     "output_type": "execute_result"
    }
   ],
   "source": [
    "data_short.head()"
   ]
  },
  {
   "cell_type": "code",
   "execution_count": 8,
   "metadata": {},
   "outputs": [
    {
     "name": "stdout",
     "output_type": "stream",
     "text": [
      "<class 'pandas.core.frame.DataFrame'>\n",
      "RangeIndex: 1000000 entries, 0 to 999999\n",
      "Data columns (total 11 columns):\n",
      "medallion           1000000 non-null object\n",
      " hack_license       1000000 non-null object\n",
      " vendor_id          1000000 non-null object\n",
      " pickup_datetime    1000000 non-null object\n",
      " payment_type       1000000 non-null object\n",
      " fare_amount        1000000 non-null float64\n",
      " surcharge          1000000 non-null float64\n",
      " mta_tax            1000000 non-null float64\n",
      " tip_amount         1000000 non-null float64\n",
      " tolls_amount       1000000 non-null float64\n",
      " total_amount       1000000 non-null float64\n",
      "dtypes: float64(6), object(5)\n",
      "memory usage: 83.9+ MB\n"
     ]
    }
   ],
   "source": [
    "fare_short.info()"
   ]
  },
  {
   "cell_type": "code",
   "execution_count": 96,
   "metadata": {},
   "outputs": [
    {
     "data": {
      "text/plain": [
       "medallion             0\n",
       " hack_license         0\n",
       " vendor_id            0\n",
       " pickup_datetime      0\n",
       " payment_type         0\n",
       " fare_amount          0\n",
       " surcharge            0\n",
       " mta_tax              0\n",
       " tip_amount           0\n",
       " tolls_amount         0\n",
       " total_amount         0\n",
       "day                   0\n",
       " trip_time_in_secs    0\n",
       "dtype: int64"
      ]
     },
     "execution_count": 96,
     "metadata": {},
     "output_type": "execute_result"
    }
   ],
   "source": [
    "fare_short.isnull().sum()"
   ]
  },
  {
   "cell_type": "code",
   "execution_count": 9,
   "metadata": {},
   "outputs": [
    {
     "data": {
      "text/html": [
       "<div>\n",
       "<style scoped>\n",
       "    .dataframe tbody tr th:only-of-type {\n",
       "        vertical-align: middle;\n",
       "    }\n",
       "\n",
       "    .dataframe tbody tr th {\n",
       "        vertical-align: top;\n",
       "    }\n",
       "\n",
       "    .dataframe thead th {\n",
       "        text-align: right;\n",
       "    }\n",
       "</style>\n",
       "<table border=\"1\" class=\"dataframe\">\n",
       "  <thead>\n",
       "    <tr style=\"text-align: right;\">\n",
       "      <th></th>\n",
       "      <th>medallion</th>\n",
       "      <th>hack_license</th>\n",
       "      <th>vendor_id</th>\n",
       "      <th>pickup_datetime</th>\n",
       "      <th>payment_type</th>\n",
       "      <th>fare_amount</th>\n",
       "      <th>surcharge</th>\n",
       "      <th>mta_tax</th>\n",
       "      <th>tip_amount</th>\n",
       "      <th>tolls_amount</th>\n",
       "      <th>total_amount</th>\n",
       "    </tr>\n",
       "  </thead>\n",
       "  <tbody>\n",
       "    <tr>\n",
       "      <th>0</th>\n",
       "      <td>91F6EB84975BBC867E32CB113C7C2CD5</td>\n",
       "      <td>AD8751110E6292079EB10EB9481FE1A6</td>\n",
       "      <td>CMT</td>\n",
       "      <td>2013-04-04 18:47:45</td>\n",
       "      <td>CRD</td>\n",
       "      <td>11.0</td>\n",
       "      <td>1.0</td>\n",
       "      <td>0.5</td>\n",
       "      <td>2.50</td>\n",
       "      <td>0.0</td>\n",
       "      <td>15.00</td>\n",
       "    </tr>\n",
       "    <tr>\n",
       "      <th>1</th>\n",
       "      <td>EC34CD1B3797DFAFF3FE099BA87B6656</td>\n",
       "      <td>8FE6A4AEDF89B6B4E19D2377FD3FB7D7</td>\n",
       "      <td>CMT</td>\n",
       "      <td>2013-04-05 07:08:34</td>\n",
       "      <td>CRD</td>\n",
       "      <td>8.5</td>\n",
       "      <td>0.0</td>\n",
       "      <td>0.5</td>\n",
       "      <td>1.80</td>\n",
       "      <td>0.0</td>\n",
       "      <td>10.80</td>\n",
       "    </tr>\n",
       "    <tr>\n",
       "      <th>2</th>\n",
       "      <td>C1B9DA774DC2BBC6DE27CE994E7F44A0</td>\n",
       "      <td>E1B595FD55E4C82C1E213EB17438107A</td>\n",
       "      <td>CMT</td>\n",
       "      <td>2013-04-04 17:59:50</td>\n",
       "      <td>CRD</td>\n",
       "      <td>16.5</td>\n",
       "      <td>1.0</td>\n",
       "      <td>0.5</td>\n",
       "      <td>3.60</td>\n",
       "      <td>0.0</td>\n",
       "      <td>21.60</td>\n",
       "    </tr>\n",
       "    <tr>\n",
       "      <th>3</th>\n",
       "      <td>9BA84250355AB3FC031C9252D395BF8A</td>\n",
       "      <td>16BB0D96A0DCC853AEC7F55C8D6C71E0</td>\n",
       "      <td>CMT</td>\n",
       "      <td>2013-04-04 18:12:01</td>\n",
       "      <td>CRD</td>\n",
       "      <td>10.0</td>\n",
       "      <td>1.0</td>\n",
       "      <td>0.5</td>\n",
       "      <td>3.45</td>\n",
       "      <td>0.0</td>\n",
       "      <td>14.95</td>\n",
       "    </tr>\n",
       "    <tr>\n",
       "      <th>4</th>\n",
       "      <td>205A696DF62AD03C88DA8C5EC5248639</td>\n",
       "      <td>579C41EA5EC846F8B641A42F9EE3E855</td>\n",
       "      <td>CMT</td>\n",
       "      <td>2013-04-04 20:12:57</td>\n",
       "      <td>CRD</td>\n",
       "      <td>15.0</td>\n",
       "      <td>0.5</td>\n",
       "      <td>0.5</td>\n",
       "      <td>3.20</td>\n",
       "      <td>0.0</td>\n",
       "      <td>19.20</td>\n",
       "    </tr>\n",
       "  </tbody>\n",
       "</table>\n",
       "</div>"
      ],
      "text/plain": [
       "                          medallion                      hack_license  \\\n",
       "0  91F6EB84975BBC867E32CB113C7C2CD5  AD8751110E6292079EB10EB9481FE1A6   \n",
       "1  EC34CD1B3797DFAFF3FE099BA87B6656  8FE6A4AEDF89B6B4E19D2377FD3FB7D7   \n",
       "2  C1B9DA774DC2BBC6DE27CE994E7F44A0  E1B595FD55E4C82C1E213EB17438107A   \n",
       "3  9BA84250355AB3FC031C9252D395BF8A  16BB0D96A0DCC853AEC7F55C8D6C71E0   \n",
       "4  205A696DF62AD03C88DA8C5EC5248639  579C41EA5EC846F8B641A42F9EE3E855   \n",
       "\n",
       "   vendor_id      pickup_datetime  payment_type   fare_amount   surcharge  \\\n",
       "0        CMT  2013-04-04 18:47:45           CRD          11.0         1.0   \n",
       "1        CMT  2013-04-05 07:08:34           CRD           8.5         0.0   \n",
       "2        CMT  2013-04-04 17:59:50           CRD          16.5         1.0   \n",
       "3        CMT  2013-04-04 18:12:01           CRD          10.0         1.0   \n",
       "4        CMT  2013-04-04 20:12:57           CRD          15.0         0.5   \n",
       "\n",
       "    mta_tax   tip_amount   tolls_amount   total_amount  \n",
       "0       0.5         2.50            0.0          15.00  \n",
       "1       0.5         1.80            0.0          10.80  \n",
       "2       0.5         3.60            0.0          21.60  \n",
       "3       0.5         3.45            0.0          14.95  \n",
       "4       0.5         3.20            0.0          19.20  "
      ]
     },
     "execution_count": 9,
     "metadata": {},
     "output_type": "execute_result"
    }
   ],
   "source": [
    "fare_short.head()"
   ]
  },
  {
   "cell_type": "markdown",
   "metadata": {},
   "source": [
    "# Adding date features using pd.to_datetime()"
   ]
  },
  {
   "cell_type": "code",
   "execution_count": 10,
   "metadata": {},
   "outputs": [],
   "source": [
    "data_short[' pickup_datetime'] = pd.to_datetime(data_short[' pickup_datetime'])"
   ]
  },
  {
   "cell_type": "code",
   "execution_count": 11,
   "metadata": {},
   "outputs": [],
   "source": [
    "data_short['date'] = data_short[' pickup_datetime'].apply(lambda x: x.date()) #get the entire date"
   ]
  },
  {
   "cell_type": "code",
   "execution_count": 12,
   "metadata": {},
   "outputs": [],
   "source": [
    "data_short['day'] = data_short[' pickup_datetime'].apply(lambda x: x.day_name()[:3]) #get name of day (Mon, Tue,...)"
   ]
  },
  {
   "cell_type": "code",
   "execution_count": 13,
   "metadata": {},
   "outputs": [],
   "source": [
    "data_short['hour'] = data_short[' pickup_datetime'].apply(lambda x: x.hour)"
   ]
  },
  {
   "cell_type": "code",
   "execution_count": 14,
   "metadata": {},
   "outputs": [],
   "source": [
    "fare_short[' pickup_datetime'] = pd.to_datetime(fare_short[' pickup_datetime'])"
   ]
  },
  {
   "cell_type": "code",
   "execution_count": 15,
   "metadata": {},
   "outputs": [],
   "source": [
    "fare_short['day'] = fare_short[' pickup_datetime'].apply(lambda x: x.day_name()[:3])"
   ]
  },
  {
   "cell_type": "markdown",
   "metadata": {},
   "source": [
    "# Distribution of Number of Passengers"
   ]
  },
  {
   "cell_type": "code",
   "execution_count": 16,
   "metadata": {},
   "outputs": [
    {
     "data": {
      "text/plain": [
       "1    685411\n",
       "2    136506\n",
       "5     66423\n",
       "3     44837\n",
       "6     44476\n",
       "4     22345\n",
       "0         2\n",
       "Name:  passenger_count, dtype: int64"
      ]
     },
     "execution_count": 16,
     "metadata": {},
     "output_type": "execute_result"
    }
   ],
   "source": [
    "data_short[' passenger_count'].value_counts()"
   ]
  },
  {
   "cell_type": "code",
   "execution_count": 17,
   "metadata": {},
   "outputs": [
    {
     "data": {
      "text/plain": [
       "<matplotlib.axes._subplots.AxesSubplot at 0x1e2a6107b38>"
      ]
     },
     "execution_count": 17,
     "metadata": {},
     "output_type": "execute_result"
    },
    {
     "data": {
      "image/png": "[encoded data removed]",
      "text/plain": [
       "<Figure size 864x432 with 1 Axes>"
      ]
     },
     "metadata": {},
     "output_type": "display_data"
    }
   ],
   "source": [
    "sns.set_style('whitegrid')\n",
    "plt.figure(figsize=(12,6))\n",
    "sns.distplot(data_short[' passenger_count'], kde=False)"
   ]
  },
  {
   "cell_type": "markdown",
   "metadata": {},
   "source": [
    "Distrubution shows maximum travelling passengers to be 1. Passenger_count of 5 and 6 indicate bigger taxis or possibilty of adults and a small child.\n",
    "Intrestingly passenger_count of 4 has the least count in the graph lower than 5 and 6, maybe due to use of private car preffered for family or group 4."
   ]
  },
  {
   "cell_type": "markdown",
   "metadata": {},
   "source": [
    "# Distribution of Payment Type"
   ]
  },
  {
   "cell_type": "code",
   "execution_count": 19,
   "metadata": {},
   "outputs": [
    {
     "data": {
      "text/plain": [
       "CRD    516313\n",
       "CSH    480679\n",
       "NOC      2057\n",
       "DIS       691\n",
       "UNK       260\n",
       "Name:  payment_type, dtype: int64"
      ]
     },
     "execution_count": 19,
     "metadata": {},
     "output_type": "execute_result"
    }
   ],
   "source": [
    "fare_short[' payment_type'].value_counts()"
   ]
  },
  {
   "cell_type": "code",
   "execution_count": 20,
   "metadata": {},
   "outputs": [
    {
     "data": {
      "text/plain": [
       "<matplotlib.axes._subplots.AxesSubplot at 0x1e286e1a4a8>"
      ]
     },
     "execution_count": 20,
     "metadata": {},
     "output_type": "execute_result"
    },
    {
     "data": {
      "image/png": "[encoded data removed]",
      "text/plain": [
       "<Figure size 864x432 with 1 Axes>"
      ]
     },
     "metadata": {},
     "output_type": "display_data"
    }
   ],
   "source": [
    "plt.figure(figsize=(12,6))\n",
    "sns.countplot(fare_short[' payment_type'])"
   ]
  },
  {
   "cell_type": "markdown",
   "metadata": {},
   "source": [
    "Distribution shows the credit card to be most widely used mode of payment followed by cash. These are predominantly the most common modes of payment compared to NOC, UNK and DIS being used on few instances."
   ]
  },
  {
   "cell_type": "markdown",
   "metadata": {},
   "source": [
    "# Distribution of Fare Amount"
   ]
  },
  {
   "cell_type": "code",
   "execution_count": 21,
   "metadata": {},
   "outputs": [
    {
     "data": {
      "text/plain": [
       "<matplotlib.axes._subplots.AxesSubplot at 0x1e28631c2e8>"
      ]
     },
     "execution_count": 21,
     "metadata": {},
     "output_type": "execute_result"
    },
    {
     "data": {
      "image/png": "[encoded data removed]",
      "text/plain": [
       "<Figure size 864x432 with 1 Axes>"
      ]
     },
     "metadata": {},
     "output_type": "display_data"
    }
   ],
   "source": [
    "plt.figure(figsize=(12,6))\n",
    "sns.distplot(fare_short[' fare_amount'], kde= False,bins=80)"
   ]
  },
  {
   "cell_type": "code",
   "execution_count": 22,
   "metadata": {},
   "outputs": [
    {
     "data": {
      "text/plain": [
       "6.5    50492\n",
       "6.0    50397\n",
       "7.0    49758\n",
       "5.5    48369\n",
       "7.5    47715\n",
       "Name:  fare_amount, dtype: int64"
      ]
     },
     "execution_count": 22,
     "metadata": {},
     "output_type": "execute_result"
    }
   ],
   "source": [
    "fare_short[' fare_amount'].value_counts().head()"
   ]
  },
  {
   "cell_type": "markdown",
   "metadata": {},
   "source": [
    "The distribution indicates that the passengers prefer using the cab for smaller amounts in range of 6-9. There is a decrease in the number of as the fare increases but a small increase in number at fare of 50. "
   ]
  },
  {
   "cell_type": "markdown",
   "metadata": {},
   "source": [
    "# Distribution of Tip Amount"
   ]
  },
  {
   "cell_type": "code",
   "execution_count": 23,
   "metadata": {},
   "outputs": [
    {
     "data": {
      "text/plain": [
       "<matplotlib.axes._subplots.AxesSubplot at 0x1e28648d588>"
      ]
     },
     "execution_count": 23,
     "metadata": {},
     "output_type": "execute_result"
    },
    {
     "data": {
      "image/png": "[encoded data removed]",
      "text/plain": [
       "<Figure size 864x432 with 1 Axes>"
      ]
     },
     "metadata": {},
     "output_type": "display_data"
    }
   ],
   "source": [
    "plt.figure(figsize=(12,6))\n",
    "sns.distplot(fare_short[' tip_amount'], kde= False)"
   ]
  },
  {
   "cell_type": "code",
   "execution_count": 24,
   "metadata": {},
   "outputs": [
    {
     "data": {
      "text/plain": [
       "0.0    499874\n",
       "1.0     88794\n",
       "2.0     46780\n",
       "1.5     37342\n",
       "3.0     15860\n",
       "Name:  tip_amount, dtype: int64"
      ]
     },
     "execution_count": 24,
     "metadata": {},
     "output_type": "execute_result"
    }
   ],
   "source": [
    "fare_short[' tip_amount'].value_counts().head()"
   ]
  },
  {
   "cell_type": "markdown",
   "metadata": {},
   "source": [
    "Most passengesr do not tip the with 0.0 being the most common tip_amount. "
   ]
  },
  {
   "cell_type": "markdown",
   "metadata": {},
   "source": [
    "# Distrbution of Total Amount"
   ]
  },
  {
   "cell_type": "code",
   "execution_count": 26,
   "metadata": {},
   "outputs": [
    {
     "data": {
      "text/plain": [
       "<matplotlib.axes._subplots.AxesSubplot at 0x1e2867aff60>"
      ]
     },
     "execution_count": 26,
     "metadata": {},
     "output_type": "execute_result"
    },
    {
     "data": {
      "image/png": "[encoded data removed]",
      "text/plain": [
       "<Figure size 864x432 with 1 Axes>"
      ]
     },
     "metadata": {},
     "output_type": "display_data"
    }
   ],
   "source": [
    "plt.figure(figsize=(12,6))\n",
    "sns.distplot(fare_short[' total_amount'],kde=False)"
   ]
  },
  {
   "cell_type": "markdown",
   "metadata": {},
   "source": [
    "Total amount similar to fare_amount max in the early range as people prefer using cab for shorter distances."
   ]
  },
  {
   "cell_type": "code",
   "execution_count": 27,
   "metadata": {},
   "outputs": [
    {
     "data": {
      "text/plain": [
       "6.5    35838\n",
       "9.0    35651\n",
       "8.0    34588\n",
       "7.0    34188\n",
       "7.5    33647\n",
       "Name:  total_amount, dtype: int64"
      ]
     },
     "execution_count": 27,
     "metadata": {},
     "output_type": "execute_result"
    }
   ],
   "source": [
    "fare_short[' total_amount'].value_counts().head()"
   ]
  },
  {
   "cell_type": "markdown",
   "metadata": {},
   "source": [
    "# EDA"
   ]
  },
  {
   "cell_type": "code",
   "execution_count": 28,
   "metadata": {},
   "outputs": [
    {
     "data": {
      "text/plain": [
       "<matplotlib.axes._subplots.AxesSubplot at 0x1e28686eba8>"
      ]
     },
     "execution_count": 28,
     "metadata": {},
     "output_type": "execute_result"
    },
    {
     "data": {
      "image/png": "[encoded data removed]",
      "text/plain": [
       "<Figure size 864x432 with 1 Axes>"
      ]
     },
     "metadata": {},
     "output_type": "display_data"
    }
   ],
   "source": [
    "plt.figure(figsize=(12,6))\n",
    "sns.countplot(data_short[' vendor_id'])"
   ]
  },
  {
   "cell_type": "code",
   "execution_count": 29,
   "metadata": {},
   "outputs": [],
   "source": [
    "data_week = data_short.groupby('day')[' trip_time_in_secs'].aggregate(np.median).reset_index()"
   ]
  },
  {
   "cell_type": "code",
   "execution_count": 30,
   "metadata": {},
   "outputs": [
    {
     "data": {
      "text/html": [
       "<div>\n",
       "<style scoped>\n",
       "    .dataframe tbody tr th:only-of-type {\n",
       "        vertical-align: middle;\n",
       "    }\n",
       "\n",
       "    .dataframe tbody tr th {\n",
       "        vertical-align: top;\n",
       "    }\n",
       "\n",
       "    .dataframe thead th {\n",
       "        text-align: right;\n",
       "    }\n",
       "</style>\n",
       "<table border=\"1\" class=\"dataframe\">\n",
       "  <thead>\n",
       "    <tr style=\"text-align: right;\">\n",
       "      <th></th>\n",
       "      <th>day</th>\n",
       "      <th>trip_time_in_secs</th>\n",
       "    </tr>\n",
       "  </thead>\n",
       "  <tbody>\n",
       "    <tr>\n",
       "      <th>0</th>\n",
       "      <td>Fri</td>\n",
       "      <td>656</td>\n",
       "    </tr>\n",
       "    <tr>\n",
       "      <th>1</th>\n",
       "      <td>Mon</td>\n",
       "      <td>604</td>\n",
       "    </tr>\n",
       "    <tr>\n",
       "      <th>2</th>\n",
       "      <td>Sat</td>\n",
       "      <td>600</td>\n",
       "    </tr>\n",
       "    <tr>\n",
       "      <th>3</th>\n",
       "      <td>Sun</td>\n",
       "      <td>561</td>\n",
       "    </tr>\n",
       "    <tr>\n",
       "      <th>4</th>\n",
       "      <td>Thu</td>\n",
       "      <td>654</td>\n",
       "    </tr>\n",
       "    <tr>\n",
       "      <th>5</th>\n",
       "      <td>Tue</td>\n",
       "      <td>599</td>\n",
       "    </tr>\n",
       "    <tr>\n",
       "      <th>6</th>\n",
       "      <td>Wed</td>\n",
       "      <td>616</td>\n",
       "    </tr>\n",
       "  </tbody>\n",
       "</table>\n",
       "</div>"
      ],
      "text/plain": [
       "   day   trip_time_in_secs\n",
       "0  Fri                 656\n",
       "1  Mon                 604\n",
       "2  Sat                 600\n",
       "3  Sun                 561\n",
       "4  Thu                 654\n",
       "5  Tue                 599\n",
       "6  Wed                 616"
      ]
     },
     "execution_count": 30,
     "metadata": {},
     "output_type": "execute_result"
    }
   ],
   "source": [
    "data_week"
   ]
  },
  {
   "cell_type": "code",
   "execution_count": 31,
   "metadata": {},
   "outputs": [
    {
     "data": {
      "text/plain": [
       "<matplotlib.axes._subplots.AxesSubplot at 0x1e2870d24a8>"
      ]
     },
     "execution_count": 31,
     "metadata": {},
     "output_type": "execute_result"
    },
    {
     "data": {
      "image/png": "[encoded data removed]",
      "text/plain": [
       "<Figure size 864x432 with 1 Axes>"
      ]
     },
     "metadata": {},
     "output_type": "display_data"
    }
   ],
   "source": [
    "plt.figure(figsize=(12,6))\n",
    "sns.pointplot(data_week['day'], data_week[' trip_time_in_secs'])"
   ]
  },
  {
   "cell_type": "markdown",
   "metadata": {},
   "source": [
    "The duration of the trips as per the day of the week are maximum at Friday, Thurday and wednesday, with the least duration on sunday."
   ]
  },
  {
   "cell_type": "code",
   "execution_count": 32,
   "metadata": {},
   "outputs": [],
   "source": [
    "data_hour = data_short.groupby('hour')[' trip_time_in_secs'].aggregate(np.median).reset_index()"
   ]
  },
  {
   "cell_type": "code",
   "execution_count": 33,
   "metadata": {},
   "outputs": [
    {
     "data": {
      "text/html": [
       "<div>\n",
       "<style scoped>\n",
       "    .dataframe tbody tr th:only-of-type {\n",
       "        vertical-align: middle;\n",
       "    }\n",
       "\n",
       "    .dataframe tbody tr th {\n",
       "        vertical-align: top;\n",
       "    }\n",
       "\n",
       "    .dataframe thead th {\n",
       "        text-align: right;\n",
       "    }\n",
       "</style>\n",
       "<table border=\"1\" class=\"dataframe\">\n",
       "  <thead>\n",
       "    <tr style=\"text-align: right;\">\n",
       "      <th></th>\n",
       "      <th>hour</th>\n",
       "      <th>trip_time_in_secs</th>\n",
       "    </tr>\n",
       "  </thead>\n",
       "  <tbody>\n",
       "    <tr>\n",
       "      <th>0</th>\n",
       "      <td>0</td>\n",
       "      <td>600</td>\n",
       "    </tr>\n",
       "    <tr>\n",
       "      <th>1</th>\n",
       "      <td>1</td>\n",
       "      <td>600</td>\n",
       "    </tr>\n",
       "    <tr>\n",
       "      <th>2</th>\n",
       "      <td>2</td>\n",
       "      <td>568</td>\n",
       "    </tr>\n",
       "    <tr>\n",
       "      <th>3</th>\n",
       "      <td>3</td>\n",
       "      <td>544</td>\n",
       "    </tr>\n",
       "    <tr>\n",
       "      <th>4</th>\n",
       "      <td>4</td>\n",
       "      <td>589</td>\n",
       "    </tr>\n",
       "    <tr>\n",
       "      <th>5</th>\n",
       "      <td>5</td>\n",
       "      <td>540</td>\n",
       "    </tr>\n",
       "    <tr>\n",
       "      <th>6</th>\n",
       "      <td>6</td>\n",
       "      <td>480</td>\n",
       "    </tr>\n",
       "    <tr>\n",
       "      <th>7</th>\n",
       "      <td>7</td>\n",
       "      <td>515</td>\n",
       "    </tr>\n",
       "    <tr>\n",
       "      <th>8</th>\n",
       "      <td>8</td>\n",
       "      <td>552</td>\n",
       "    </tr>\n",
       "    <tr>\n",
       "      <th>9</th>\n",
       "      <td>9</td>\n",
       "      <td>540</td>\n",
       "    </tr>\n",
       "    <tr>\n",
       "      <th>10</th>\n",
       "      <td>10</td>\n",
       "      <td>540</td>\n",
       "    </tr>\n",
       "    <tr>\n",
       "      <th>11</th>\n",
       "      <td>11</td>\n",
       "      <td>591</td>\n",
       "    </tr>\n",
       "    <tr>\n",
       "      <th>12</th>\n",
       "      <td>12</td>\n",
       "      <td>600</td>\n",
       "    </tr>\n",
       "    <tr>\n",
       "      <th>13</th>\n",
       "      <td>13</td>\n",
       "      <td>616</td>\n",
       "    </tr>\n",
       "    <tr>\n",
       "      <th>14</th>\n",
       "      <td>14</td>\n",
       "      <td>660</td>\n",
       "    </tr>\n",
       "    <tr>\n",
       "      <th>15</th>\n",
       "      <td>15</td>\n",
       "      <td>631</td>\n",
       "    </tr>\n",
       "    <tr>\n",
       "      <th>16</th>\n",
       "      <td>16</td>\n",
       "      <td>600</td>\n",
       "    </tr>\n",
       "    <tr>\n",
       "      <th>17</th>\n",
       "      <td>17</td>\n",
       "      <td>609</td>\n",
       "    </tr>\n",
       "    <tr>\n",
       "      <th>18</th>\n",
       "      <td>18</td>\n",
       "      <td>603</td>\n",
       "    </tr>\n",
       "    <tr>\n",
       "      <th>19</th>\n",
       "      <td>19</td>\n",
       "      <td>600</td>\n",
       "    </tr>\n",
       "    <tr>\n",
       "      <th>20</th>\n",
       "      <td>20</td>\n",
       "      <td>600</td>\n",
       "    </tr>\n",
       "    <tr>\n",
       "      <th>21</th>\n",
       "      <td>21</td>\n",
       "      <td>597</td>\n",
       "    </tr>\n",
       "    <tr>\n",
       "      <th>22</th>\n",
       "      <td>22</td>\n",
       "      <td>600</td>\n",
       "    </tr>\n",
       "    <tr>\n",
       "      <th>23</th>\n",
       "      <td>23</td>\n",
       "      <td>600</td>\n",
       "    </tr>\n",
       "  </tbody>\n",
       "</table>\n",
       "</div>"
      ],
      "text/plain": [
       "    hour   trip_time_in_secs\n",
       "0      0                 600\n",
       "1      1                 600\n",
       "2      2                 568\n",
       "3      3                 544\n",
       "4      4                 589\n",
       "5      5                 540\n",
       "6      6                 480\n",
       "7      7                 515\n",
       "8      8                 552\n",
       "9      9                 540\n",
       "10    10                 540\n",
       "11    11                 591\n",
       "12    12                 600\n",
       "13    13                 616\n",
       "14    14                 660\n",
       "15    15                 631\n",
       "16    16                 600\n",
       "17    17                 609\n",
       "18    18                 603\n",
       "19    19                 600\n",
       "20    20                 600\n",
       "21    21                 597\n",
       "22    22                 600\n",
       "23    23                 600"
      ]
     },
     "execution_count": 33,
     "metadata": {},
     "output_type": "execute_result"
    }
   ],
   "source": [
    "data_hour"
   ]
  },
  {
   "cell_type": "code",
   "execution_count": 34,
   "metadata": {},
   "outputs": [
    {
     "data": {
      "text/plain": [
       "<matplotlib.axes._subplots.AxesSubplot at 0x1e2864686d8>"
      ]
     },
     "execution_count": 34,
     "metadata": {},
     "output_type": "execute_result"
    },
    {
     "data": {
      "image/png": "[encoded data removed]",
      "text/plain": [
       "<Figure size 864x432 with 1 Axes>"
      ]
     },
     "metadata": {},
     "output_type": "display_data"
    }
   ],
   "source": [
    "plt.figure(figsize=(12,6))\n",
    "sns.pointplot(data_hour['hour'], data_hour[' trip_time_in_secs'])"
   ]
  },
  {
   "cell_type": "markdown",
   "metadata": {},
   "source": [
    "The trip duration as per the hours of the days indicate a steady increase in duration from 10am to maximum at 2 pm with a decrease and a constant duration from 4pm to 11pm. The smalled duration is seen at 6am."
   ]
  },
  {
   "cell_type": "markdown",
   "metadata": {},
   "source": [
    "# 5 Bussiest Hours of the day"
   ]
  },
  {
   "cell_type": "markdown",
   "metadata": {},
   "source": [
    "Feature engineering on original data dataset to find correct output , short data gives differebt output."
   ]
  },
  {
   "cell_type": "code",
   "execution_count": 35,
   "metadata": {},
   "outputs": [],
   "source": [
    "data[' pickup_datetime'] = pd.to_datetime(data[' pickup_datetime']) "
   ]
  },
  {
   "cell_type": "code",
   "execution_count": 36,
   "metadata": {},
   "outputs": [],
   "source": [
    "data['Date'] = data[' pickup_datetime'].apply(lambda x: x.date())"
   ]
  },
  {
   "cell_type": "code",
   "execution_count": 37,
   "metadata": {},
   "outputs": [],
   "source": [
    "data['Hour'] = data[' pickup_datetime'].apply(lambda x: x.hour)"
   ]
  },
  {
   "cell_type": "code",
   "execution_count": 38,
   "metadata": {},
   "outputs": [],
   "source": [
    "data_new = data.groupby(by=['Date','Hour']).count()[' vendor_id'].unstack() #create Date with date as index and hour as column"
   ]
  },
  {
   "cell_type": "code",
   "execution_count": 39,
   "metadata": {},
   "outputs": [
    {
     "data": {
      "text/html": [
       "<div>\n",
       "<style scoped>\n",
       "    .dataframe tbody tr th:only-of-type {\n",
       "        vertical-align: middle;\n",
       "    }\n",
       "\n",
       "    .dataframe tbody tr th {\n",
       "        vertical-align: top;\n",
       "    }\n",
       "\n",
       "    .dataframe thead th {\n",
       "        text-align: right;\n",
       "    }\n",
       "</style>\n",
       "<table border=\"1\" class=\"dataframe\">\n",
       "  <thead>\n",
       "    <tr style=\"text-align: right;\">\n",
       "      <th>Hour</th>\n",
       "      <th>0</th>\n",
       "      <th>1</th>\n",
       "      <th>2</th>\n",
       "      <th>3</th>\n",
       "      <th>4</th>\n",
       "      <th>5</th>\n",
       "      <th>6</th>\n",
       "      <th>7</th>\n",
       "      <th>8</th>\n",
       "      <th>9</th>\n",
       "      <th>...</th>\n",
       "      <th>14</th>\n",
       "      <th>15</th>\n",
       "      <th>16</th>\n",
       "      <th>17</th>\n",
       "      <th>18</th>\n",
       "      <th>19</th>\n",
       "      <th>20</th>\n",
       "      <th>21</th>\n",
       "      <th>22</th>\n",
       "      <th>23</th>\n",
       "    </tr>\n",
       "    <tr>\n",
       "      <th>Date</th>\n",
       "      <th></th>\n",
       "      <th></th>\n",
       "      <th></th>\n",
       "      <th></th>\n",
       "      <th></th>\n",
       "      <th></th>\n",
       "      <th></th>\n",
       "      <th></th>\n",
       "      <th></th>\n",
       "      <th></th>\n",
       "      <th></th>\n",
       "      <th></th>\n",
       "      <th></th>\n",
       "      <th></th>\n",
       "      <th></th>\n",
       "      <th></th>\n",
       "      <th></th>\n",
       "      <th></th>\n",
       "      <th></th>\n",
       "      <th></th>\n",
       "      <th></th>\n",
       "    </tr>\n",
       "  </thead>\n",
       "  <tbody>\n",
       "    <tr>\n",
       "      <th>2013-04-01</th>\n",
       "      <td>9087</td>\n",
       "      <td>5280</td>\n",
       "      <td>3377</td>\n",
       "      <td>2309</td>\n",
       "      <td>2667</td>\n",
       "      <td>4489</td>\n",
       "      <td>11080</td>\n",
       "      <td>19017</td>\n",
       "      <td>23611</td>\n",
       "      <td>23859</td>\n",
       "      <td>...</td>\n",
       "      <td>21736</td>\n",
       "      <td>22214</td>\n",
       "      <td>21739</td>\n",
       "      <td>25907</td>\n",
       "      <td>28795</td>\n",
       "      <td>28183</td>\n",
       "      <td>27550</td>\n",
       "      <td>26672</td>\n",
       "      <td>23057</td>\n",
       "      <td>16127</td>\n",
       "    </tr>\n",
       "    <tr>\n",
       "      <th>2013-04-02</th>\n",
       "      <td>11157</td>\n",
       "      <td>6281</td>\n",
       "      <td>3717</td>\n",
       "      <td>2470</td>\n",
       "      <td>2558</td>\n",
       "      <td>4321</td>\n",
       "      <td>11905</td>\n",
       "      <td>22513</td>\n",
       "      <td>27530</td>\n",
       "      <td>27400</td>\n",
       "      <td>...</td>\n",
       "      <td>25874</td>\n",
       "      <td>25298</td>\n",
       "      <td>21321</td>\n",
       "      <td>26388</td>\n",
       "      <td>33436</td>\n",
       "      <td>33920</td>\n",
       "      <td>33126</td>\n",
       "      <td>31328</td>\n",
       "      <td>27626</td>\n",
       "      <td>21305</td>\n",
       "    </tr>\n",
       "    <tr>\n",
       "      <th>2013-04-03</th>\n",
       "      <td>13772</td>\n",
       "      <td>7799</td>\n",
       "      <td>4768</td>\n",
       "      <td>3106</td>\n",
       "      <td>2855</td>\n",
       "      <td>4279</td>\n",
       "      <td>12402</td>\n",
       "      <td>24473</td>\n",
       "      <td>28862</td>\n",
       "      <td>28038</td>\n",
       "      <td>...</td>\n",
       "      <td>25989</td>\n",
       "      <td>24919</td>\n",
       "      <td>19847</td>\n",
       "      <td>24423</td>\n",
       "      <td>31639</td>\n",
       "      <td>34328</td>\n",
       "      <td>33901</td>\n",
       "      <td>33169</td>\n",
       "      <td>31414</td>\n",
       "      <td>24446</td>\n",
       "    </tr>\n",
       "    <tr>\n",
       "      <th>2013-04-04</th>\n",
       "      <td>15713</td>\n",
       "      <td>8996</td>\n",
       "      <td>5502</td>\n",
       "      <td>3515</td>\n",
       "      <td>3272</td>\n",
       "      <td>4490</td>\n",
       "      <td>12854</td>\n",
       "      <td>24936</td>\n",
       "      <td>29395</td>\n",
       "      <td>28080</td>\n",
       "      <td>...</td>\n",
       "      <td>26423</td>\n",
       "      <td>25079</td>\n",
       "      <td>20175</td>\n",
       "      <td>25729</td>\n",
       "      <td>32816</td>\n",
       "      <td>34612</td>\n",
       "      <td>34575</td>\n",
       "      <td>33849</td>\n",
       "      <td>32857</td>\n",
       "      <td>28834</td>\n",
       "    </tr>\n",
       "    <tr>\n",
       "      <th>2013-04-05</th>\n",
       "      <td>21712</td>\n",
       "      <td>14025</td>\n",
       "      <td>9163</td>\n",
       "      <td>6234</td>\n",
       "      <td>4793</td>\n",
       "      <td>4954</td>\n",
       "      <td>12457</td>\n",
       "      <td>23395</td>\n",
       "      <td>29155</td>\n",
       "      <td>27881</td>\n",
       "      <td>...</td>\n",
       "      <td>26003</td>\n",
       "      <td>23923</td>\n",
       "      <td>19446</td>\n",
       "      <td>24516</td>\n",
       "      <td>32048</td>\n",
       "      <td>35655</td>\n",
       "      <td>35525</td>\n",
       "      <td>34607</td>\n",
       "      <td>35749</td>\n",
       "      <td>35521</td>\n",
       "    </tr>\n",
       "  </tbody>\n",
       "</table>\n",
       "<p>5 rows × 24 columns</p>\n",
       "</div>"
      ],
      "text/plain": [
       "Hour           0      1     2     3     4     5      6      7      8      9   \\\n",
       "Date                                                                           \n",
       "2013-04-01   9087   5280  3377  2309  2667  4489  11080  19017  23611  23859   \n",
       "2013-04-02  11157   6281  3717  2470  2558  4321  11905  22513  27530  27400   \n",
       "2013-04-03  13772   7799  4768  3106  2855  4279  12402  24473  28862  28038   \n",
       "2013-04-04  15713   8996  5502  3515  3272  4490  12854  24936  29395  28080   \n",
       "2013-04-05  21712  14025  9163  6234  4793  4954  12457  23395  29155  27881   \n",
       "\n",
       "Hour        ...     14     15     16     17     18     19     20     21  \\\n",
       "Date        ...                                                           \n",
       "2013-04-01  ...  21736  22214  21739  25907  28795  28183  27550  26672   \n",
       "2013-04-02  ...  25874  25298  21321  26388  33436  33920  33126  31328   \n",
       "2013-04-03  ...  25989  24919  19847  24423  31639  34328  33901  33169   \n",
       "2013-04-04  ...  26423  25079  20175  25729  32816  34612  34575  33849   \n",
       "2013-04-05  ...  26003  23923  19446  24516  32048  35655  35525  34607   \n",
       "\n",
       "Hour           22     23  \n",
       "Date                      \n",
       "2013-04-01  23057  16127  \n",
       "2013-04-02  27626  21305  \n",
       "2013-04-03  31414  24446  \n",
       "2013-04-04  32857  28834  \n",
       "2013-04-05  35749  35521  \n",
       "\n",
       "[5 rows x 24 columns]"
      ]
     },
     "execution_count": 39,
     "metadata": {},
     "output_type": "execute_result"
    }
   ],
   "source": [
    "data_new.head()"
   ]
  },
  {
   "cell_type": "markdown",
   "metadata": {},
   "source": [
    "Heatmap to show bussiest hours"
   ]
  },
  {
   "cell_type": "code",
   "execution_count": 40,
   "metadata": {},
   "outputs": [
    {
     "data": {
      "text/plain": [
       "<matplotlib.axes._subplots.AxesSubplot at 0x1e286f9d2b0>"
      ]
     },
     "execution_count": 40,
     "metadata": {},
     "output_type": "execute_result"
    },
    {
     "data": {
      "image/png": "[encoded data removed]",
      "text/plain": [
       "<Figure size 864x432 with 2 Axes>"
      ]
     },
     "metadata": {},
     "output_type": "display_data"
    }
   ],
   "source": [
    "plt.figure(figsize=(12,6))\n",
    "sns.heatmap(data_new)"
   ]
  },
  {
   "cell_type": "markdown",
   "metadata": {},
   "source": [
    "The heatmap indiactes the most trips happening in between 6pm and 10pm. On sundays and mondays the trips increase in early hours of the day, mostly people returning from a late night out and reduce in between 6am to 10am on these days compared to week days(office hour). "
   ]
  },
  {
   "cell_type": "code",
   "execution_count": 41,
   "metadata": {},
   "outputs": [
    {
     "data": {
      "text/plain": [
       "Hour\n",
       "18    28795\n",
       "19    28183\n",
       "20    27550\n",
       "21    26672\n",
       "17    25907\n",
       "Name: 2013-04-01, dtype: int64"
      ]
     },
     "execution_count": 41,
     "metadata": {},
     "output_type": "execute_result"
    }
   ],
   "source": [
    "data_new.iloc[0].nlargest() "
   ]
  },
  {
   "cell_type": "code",
   "execution_count": 42,
   "metadata": {},
   "outputs": [],
   "source": [
    "counts = {}\n",
    "for i in range(0,30):\n",
    "    hours = data_new.iloc[i].nlargest()\n",
    "    for j in hours.index:\n",
    "        counts[j] = counts.get(j,0)+1   #checking frequency of the top 5 hours in the forthe month "
   ]
  },
  {
   "cell_type": "code",
   "execution_count": 43,
   "metadata": {},
   "outputs": [
    {
     "data": {
      "text/plain": [
       "{20: 26, 19: 25, 18: 24, 21: 20, 22: 19}"
      ]
     },
     "execution_count": 43,
     "metadata": {},
     "output_type": "execute_result"
    }
   ],
   "source": [
    "dict(sorted(counts.items(), key=operator.itemgetter(1), reverse=True)[:5])"
   ]
  },
  {
   "cell_type": "markdown",
   "metadata": {},
   "source": [
    "The 5 bussiest hourrs are 20,19,18,21 and 22. This can be conofirmed by looking at the heatmap which shows considerable trips in this period."
   ]
  },
  {
   "cell_type": "markdown",
   "metadata": {},
   "source": [
    "# Top 10 Bussiest Locations"
   ]
  },
  {
   "cell_type": "code",
   "execution_count": 44,
   "metadata": {},
   "outputs": [],
   "source": [
    "list_coord =[]\n",
    "for i in range(0,1000000):\n",
    "    list_coord.append((round(data_short[' pickup_longitude'].iloc[i],2) , round(data_short[' pickup_latitude'].iloc[i],2)))\n",
    "    #rounding to 2 places to create a cluster of locations which are realtively close to one another."
   ]
  },
  {
   "cell_type": "code",
   "execution_count": 45,
   "metadata": {},
   "outputs": [],
   "source": [
    "data_short['pickup_coord'] = list_coord #feature which has the pickup lat and long"
   ]
  },
  {
   "cell_type": "code",
   "execution_count": 46,
   "metadata": {},
   "outputs": [
    {
     "data": {
      "text/plain": [
       "(-73.97, 40.76)    53549\n",
       "(-73.99, 40.75)    52849\n",
       "(-73.98, 40.76)    46498\n",
       "(-73.98, 40.75)    45621\n",
       "(-73.99, 40.76)    45107\n",
       "(-73.99, 40.74)    44018\n",
       "(-73.99, 40.73)    39857\n",
       "(-74.0, 40.73)     35168\n",
       "(-74.0, 40.74)     33195\n",
       "(-73.98, 40.74)    31009\n",
       "Name: pickup_coord, dtype: int64"
      ]
     },
     "execution_count": 46,
     "metadata": {},
     "output_type": "execute_result"
    }
   ],
   "source": [
    "data_short['pickup_coord'].value_counts().head(10) #top 10 occuring pickup co-ordinates"
   ]
  },
  {
   "cell_type": "markdown",
   "metadata": {},
   "source": [
    "# Mapping the top co-ordinates using Folium"
   ]
  },
  {
   "cell_type": "code",
   "execution_count": 47,
   "metadata": {},
   "outputs": [],
   "source": [
    "import folium"
   ]
  },
  {
   "cell_type": "code",
   "execution_count": 48,
   "metadata": {},
   "outputs": [],
   "source": [
    "m= folium.Map(location=[40.712776,-74.005974], zoom_start=13) #co-ordinates for NEW YORK "
   ]
  },
  {
   "cell_type": "code",
   "execution_count": 49,
   "metadata": {},
   "outputs": [
    {
     "data": {
      "text/html": [
       "<div style=\"width:100%;\"><div style=\"position:relative;width:100%;height:0;padding-bottom:60%;\"><iframe src=\"data:text/html;charset=utf-8;base64,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\" style=\"position:absolute;width:100%;height:100%;left:0;top:0;border:none !important;\" allowfullscreen webkitallowfullscreen mozallowfullscreen></iframe></div></div>"
      ],
      "text/plain": [
       "<folium.folium.Map at 0x1e19a529518>"
      ]
     },
     "execution_count": 49,
     "metadata": {},
     "output_type": "execute_result"
    }
   ],
   "source": [
    "folium.Marker(location=[40.76,-73.97]).add_to(m)\n",
    "folium.Marker(location=[40.75,-73.99]).add_to(m)\n",
    "folium.Marker(location=[40.76, -73.98]).add_to(m)\n",
    "folium.Marker(location=[40.75,-73.98]).add_to(m)\n",
    "folium.Marker(location=[40.76, -73.99]).add_to(m)\n",
    "folium.Marker(location=[40.74,-73.99]).add_to(m)\n",
    "folium.Marker(location=[40.73,-73.99]).add_to(m)\n",
    "folium.Marker(location=[40.73,-74.0]).add_to(m)\n",
    "folium.Marker(location=[40.74,-74.0]).add_to(m)\n",
    "folium.Marker(location=[40.74,-73.98]).add_to(m)\n",
    "m"
   ]
  },
  {
   "cell_type": "markdown",
   "metadata": {},
   "source": [
    "# Trip with most consistent fare"
   ]
  },
  {
   "cell_type": "code",
   "execution_count": 50,
   "metadata": {},
   "outputs": [],
   "source": [
    "lst =[]\n",
    "for i in range(0,1000000):\n",
    "    lst.append((round(data_short[' pickup_longitude'].iloc[i],2), round(data_short[' pickup_latitude'].iloc[i],2), round(data_short[' dropoff_longitude'].iloc[i],2), round(data_short[' dropoff_latitude'].iloc[i],2)))\n",
    "    "
   ]
  },
  {
   "cell_type": "code",
   "execution_count": 51,
   "metadata": {},
   "outputs": [],
   "source": [
    "data_short['coord_trip'] = lst  # co-ordinates for both pickup and drop "
   ]
  },
  {
   "cell_type": "code",
   "execution_count": 52,
   "metadata": {},
   "outputs": [],
   "source": [
    "data_short['fare'] = fare_short[' fare_amount']"
   ]
  },
  {
   "cell_type": "code",
   "execution_count": 53,
   "metadata": {},
   "outputs": [],
   "source": [
    "std = data_short.groupby('coord_trip')['fare']"
   ]
  },
  {
   "cell_type": "code",
   "execution_count": 54,
   "metadata": {},
   "outputs": [
    {
     "data": {
      "text/plain": [
       "coord_trip\n",
       "(-73.79, 40.64, -73.96, 40.79)    0.0\n",
       "(-73.78, 40.65, -73.93, 40.87)    0.0\n",
       "(-73.96, 40.72, -73.89, 40.76)    0.0\n",
       "(-73.78, 40.65, -73.93, 40.86)    0.0\n",
       "(-73.96, 40.72, -73.9, 40.77)     0.0\n",
       "Name: fare, dtype: float64"
      ]
     },
     "execution_count": 54,
     "metadata": {},
     "output_type": "execute_result"
    }
   ],
   "source": [
    "std.std().dropna().sort_values().head() #finding the co-ordinates which have the least std with respect to the fare"
   ]
  },
  {
   "cell_type": "markdown",
   "metadata": {},
   "source": [
    "# Average wage of taxi driver"
   ]
  },
  {
   "cell_type": "code",
   "execution_count": 55,
   "metadata": {},
   "outputs": [],
   "source": [
    "data_avg = fare_short.groupby(' hack_license')[' total_amount'].mean().reset_index()"
   ]
  },
  {
   "cell_type": "code",
   "execution_count": 56,
   "metadata": {},
   "outputs": [
    {
     "data": {
      "text/plain": [
       "15.402042824020144"
      ]
     },
     "execution_count": 56,
     "metadata": {},
     "output_type": "execute_result"
    }
   ],
   "source": [
    "data_avg[' total_amount'].mean()"
   ]
  },
  {
   "cell_type": "markdown",
   "metadata": {},
   "source": [
    "__1.As a driver target the busy hours from 18-23 for maximum pickups. 2.Target  the 11am to 2pm range for long duration trips especially on fridays,thurdays and wednesdays. 3.Stay close to the top busiest locations in the city.__"
   ]
  },
  {
   "cell_type": "markdown",
   "metadata": {},
   "source": [
    "# On friday hour-0 locations with max pickups from"
   ]
  },
  {
   "cell_type": "code",
   "execution_count": 58,
   "metadata": {},
   "outputs": [
    {
     "data": {
      "text/plain": [
       "(-74.0, 40.73)     251\n",
       "(-73.99, 40.72)    219\n",
       "(-73.99, 40.73)    218\n",
       "(-73.99, 40.76)    217\n",
       "(-73.99, 40.74)    209\n",
       "Name: pickup_coord, dtype: int64"
      ]
     },
     "execution_count": 58,
     "metadata": {},
     "output_type": "execute_result"
    }
   ],
   "source": [
    "data_short[(data_short['day']== 'Fri') & (data_short['hour']==0)]['pickup_coord'].value_counts().head()"
   ]
  },
  {
   "cell_type": "markdown",
   "metadata": {},
   "source": [
    "# Function for top locations for pickup at the given day and hour"
   ]
  },
  {
   "cell_type": "code",
   "execution_count": 59,
   "metadata": {},
   "outputs": [],
   "source": [
    "def busy_location(day,hour):\n",
    "    busy_loc = data_short[(data_short['day']== day) & (data_short['hour']==hour)]['pickup_coord'].value_counts().head()\n",
    "    x = folium.Map(location=[40.712776,-74.005974], zoom_start=13)\n",
    "    for k,v in busy_loc.index:\n",
    "        folium.Marker(location=[v,k]).add_to(x)\n",
    "    return x"
   ]
  },
  {
   "cell_type": "code",
   "execution_count": 60,
   "metadata": {},
   "outputs": [
    {
     "data": {
      "text/html": [
       "<div style=\"width:100%;\"><div style=\"position:relative;width:100%;height:0;padding-bottom:60%;\"><iframe src=\"data:text/html;charset=utf-8;base64,PCFET0NUWVBFIGh0bWw+CjxoZWFkPiAgICAKICAgIDxtZXRhIGh0dHAtZXF1aXY9ImNvbnRlbnQtdHlwZSIgY29udGVudD0idGV4dC9odG1sOyBjaGFyc2V0PVVURi04IiAvPgogICAgCiAgICAgICAgPHNjcmlwdD4KICAgICAgICAgICAgTF9OT19UT1VDSCA9IGZhbHNlOwogICAgICAgICAgICBMX0RJU0FCTEVfM0QgPSBmYWxzZTsKICAgICAgICA8L3NjcmlwdD4KICAgIAogICAgPHNjcmlwdCBzcmM9Imh0dHBzOi8vY2RuLmpzZGVsaXZyLm5ldC9ucG0vbGVhZmxldEAxLjUuMS9kaXN0L2xlYWZsZXQuanMiPjwvc2NyaXB0PgogICAgPHNjcmlwdCBzcmM9Imh0dHBzOi8vY29kZS5qcXVlcnkuY29tL2pxdWVyeS0xLjEyLjQubWluLmpzIj48L3NjcmlwdD4KICAgIDxzY3JpcHQgc3JjPSJodHRwczovL21heGNkbi5ib290c3RyYXBjZG4uY29tL2Jvb3RzdHJhcC8zLjIuMC9qcy9ib290c3RyYXAubWluLmpzIj48L3NjcmlwdD4KICAgIDxzY3JpcHQgc3JjPSJodHRwczovL2NkbmpzLmNsb3VkZmxhcmUuY29tL2FqYXgvbGlicy9MZWFmbGV0LmF3ZXNvbWUtbWFya2Vycy8yLjAuMi9sZWFmbGV0LmF3ZXNvbWUtbWFya2Vycy5qcyI+PC9zY3JpcHQ+CiAgICA8bGluayByZWw9InN0eWxlc2hlZXQiIGhyZWY9Imh0dHBzOi8vY2RuLmpzZGVsaXZyLm5ldC9ucG0vbGVhZmxldEAxLjUuMS9kaXN0L2xlYWZsZXQuY3NzIi8+CiAgICA8bGluayByZWw9InN0eWxlc2hlZXQiIGhyZWY9Imh0dHBzOi8vbWF4Y2RuLmJvb3RzdHJhcGNkbi5jb20vYm9vdHN0cmFwLzMuMi4wL2Nzcy9ib290c3RyYXAubWluLmNzcyIvPgogICAgPGxpbmsgcmVsPSJzdHlsZXNoZWV0IiBocmVmPSJodHRwczovL21heGNkbi5ib290c3RyYXBjZG4uY29tL2Jvb3RzdHJhcC8zLjIuMC9jc3MvYm9vdHN0cmFwLXRoZW1lLm1pbi5jc3MiLz4KICAgIDxsaW5rIHJlbD0ic3R5bGVzaGVldCIgaHJlZj0iaHR0cHM6Ly9tYXhjZG4uYm9vdHN0cmFwY2RuLmNvbS9mb250LWF3ZXNvbWUvNC42LjMvY3NzL2ZvbnQtYXdlc29tZS5taW4uY3NzIi8+CiAgICA8bGluayByZWw9InN0eWxlc2hlZXQiIGhyZWY9Imh0dHBzOi8vY2RuanMuY2xvdWRmbGFyZS5jb20vYWpheC9saWJzL0xlYWZsZXQuYXdlc29tZS1tYXJrZXJzLzIuMC4yL2xlYWZsZXQuYXdlc29tZS1tYXJrZXJzLmNzcyIvPgogICAgPGxpbmsgcmVsPSJzdHlsZXNoZWV0IiBocmVmPSJodHRwczovL3Jhd2Nkbi5naXRoYWNrLmNvbS9weXRob24tdmlzdWFsaXphdGlvbi9mb2xpdW0vbWFzdGVyL2ZvbGl1bS90ZW1wbGF0ZXMvbGVhZmxldC5hd2Vzb21lLnJvdGF0ZS5jc3MiLz4KICAgIDxzdHlsZT5odG1sLCBib2R5IHt3aWR0aDogMTAwJTtoZWlnaHQ6IDEwMCU7bWFyZ2luOiAwO3BhZGRpbmc6IDA7fTwvc3R5bGU+CiAgICA8c3R5bGU+I21hcCB7cG9zaXRpb246YWJzb2x1dGU7dG9wOjA7Ym90dG9tOjA7cmlnaHQ6MDtsZWZ0OjA7fTwvc3R5bGU+CiAgICAKICAgICAgICAgICAgPG1ldGEgbmFtZT0idmlld3BvcnQiIGNvbnRlbnQ9IndpZHRoPWRldmljZS13aWR0aCwKICAgICAgICAgICAgICAgIGluaXRpYWwtc2NhbGU9MS4wLCBtYXhpbXVtLXNjYWxlPTEuMCwgdXNlci1zY2FsYWJsZT1ubyIgLz4KICAgICAgICAgICAgPHN0eWxlPgogICAgICAgICAgICAgICAgI21hcF8yODA1ZDUwYmI4MmE0NGQxOGJmYjFjYTMxOTdkMjhkOCB7CiAgICAgICAgICAgICAgICAgICAgcG9zaXRpb246IHJlbGF0aXZlOwogICAgICAgICAgICAgICAgICAgIHdpZHRoOiAxMDAuMCU7CiAgICAgICAgICAgICAgICAgICAgaGVpZ2h0OiAxMDAuMCU7CiAgICAgICAgICAgICAgICAgICAgbGVmdDogMC4wJTsKICAgICAgICAgICAgICAgICAgICB0b3A6IDAuMCU7CiAgICAgICAgICAgICAgICB9CiAgICAgICAgICAgIDwvc3R5bGU+CiAgICAgICAgCjwvaGVhZD4KPGJvZHk+ICAgIAogICAgCiAgICAgICAgICAgIDxkaXYgY2xhc3M9ImZvbGl1bS1tYXAiIGlkPSJtYXBfMjgwNWQ1MGJiODJhNDRkMThiZmIxY2EzMTk3ZDI4ZDgiID48L2Rpdj4KICAgICAgICAKPC9ib2R5Pgo8c2NyaXB0PiAgICAKICAgIAogICAgICAgICAgICB2YXIgbWFwXzI4MDVkNTBiYjgyYTQ0ZDE4YmZiMWNhMzE5N2QyOGQ4ID0gTC5tYXAoCiAgICAgICAgICAgICAgICAibWFwXzI4MDVkNTBiYjgyYTQ0ZDE4YmZiMWNhMzE5N2QyOGQ4IiwKICAgICAgICAgICAgICAgIHsKICAgICAgICAgICAgICAgICAgICBjZW50ZXI6IFs0MC43MTI3NzYsIC03NC4wMDU5NzRdLAogICAgICAgICAgICAgICAgICAgIGNyczogTC5DUlMuRVBTRzM4NTcsCiAgICAgICAgICAgICAgICAgICAgem9vbTogMTMsCiAgICAgICAgICAgICAgICAgICAgem9vbUNvbnRyb2w6IHRydWUsCiAgICAgICAgICAgICAgICAgICAgcHJlZmVyQ2FudmFzOiBmYWxzZSwKICAgICAgICAgICAgICAgIH0KICAgICAgICAgICAgKTsKCiAgICAgICAgICAgIAoKICAgICAgICAKICAgIAogICAgICAgICAgICB2YXIgdGlsZV9sYXllcl82NjBkYzRhNzhlNDM0NjUyOTVkMmRhMWVkODNiZmY0NiA9IEwudGlsZUxheWVyKAogICAgICAgICAgICAgICAgImh0dHBzOi8ve3N9LnRpbGUub3BlbnN0cmVldG1hcC5vcmcve3p9L3t4fS97eX0ucG5nIiwKICAgICAgICAgICAgICAgIHsiYXR0cmlidXRpb24iOiAiRGF0YSBieSBcdTAwMjZjb3B5OyBcdTAwM2NhIGhyZWY9XCJodHRwOi8vb3BlbnN0cmVldG1hcC5vcmdcIlx1MDAzZU9wZW5TdHJlZXRNYXBcdTAwM2MvYVx1MDAzZSwgdW5kZXIgXHUwMDNjYSBocmVmPVwiaHR0cDovL3d3dy5vcGVuc3RyZWV0bWFwLm9yZy9jb3B5cmlnaHRcIlx1MDAzZU9EYkxcdTAwM2MvYVx1MDAzZS4iLCAiZGV0ZWN0UmV0aW5hIjogZmFsc2UsICJtYXhOYXRpdmVab29tIjogMTgsICJtYXhab29tIjogMTgsICJtaW5ab29tIjogMCwgIm5vV3JhcCI6IGZhbHNlLCAib3BhY2l0eSI6IDEsICJzdWJkb21haW5zIjogImFiYyIsICJ0bXMiOiBmYWxzZX0KICAgICAgICAgICAgKS5hZGRUbyhtYXBfMjgwNWQ1MGJiODJhNDRkMThiZmIxY2EzMTk3ZDI4ZDgpOwogICAgICAgIAogICAgCiAgICAgICAgICAgIHZhciBtYXJrZXJfYjRiYTk3ZjQ5ZTYwNDI4NDhlNzg5OTVlNTBhMGQ3NjEgPSBMLm1hcmtlcigKICAgICAgICAgICAgICAgIFs0MC43MywgLTc0LjBdLAogICAgICAgICAgICAgICAge30KICAgICAgICAgICAgKS5hZGRUbyhtYXBfMjgwNWQ1MGJiODJhNDRkMThiZmIxY2EzMTk3ZDI4ZDgpOwogICAgICAgIAogICAgCiAgICAgICAgICAgIHZhciBtYXJrZXJfNjg4ZmZmY2U5MTNjNGNmMDg1YzBkNWE3NDZjZDZkODIgPSBMLm1hcmtlcigKICAgICAgICAgICAgICAgIFs0MC43MiwgLTczLjk5XSwKICAgICAgICAgICAgICAgIHt9CiAgICAgICAgICAgICkuYWRkVG8obWFwXzI4MDVkNTBiYjgyYTQ0ZDE4YmZiMWNhMzE5N2QyOGQ4KTsKICAgICAgICAKICAgIAogICAgICAgICAgICB2YXIgbWFya2VyXzNhZGVjMmViMzc1MjQ1YmNhODZiMjU0NmI2YTBkYjk2ID0gTC5tYXJrZXIoCiAgICAgICAgICAgICAgICBbNDAuNzMsIC03My45OV0sCiAgICAgICAgICAgICAgICB7fQogICAgICAgICAgICApLmFkZFRvKG1hcF8yODA1ZDUwYmI4MmE0NGQxOGJmYjFjYTMxOTdkMjhkOCk7CiAgICAgICAgCiAgICAKICAgICAgICAgICAgdmFyIG1hcmtlcl9hMGI2NmIyNDRmMGY0MTIwYTZlNzFmOTRiYmUyMDllMCA9IEwubWFya2VyKAogICAgICAgICAgICAgICAgWzQwLjc2LCAtNzMuOTldLAogICAgICAgICAgICAgICAge30KICAgICAgICAgICAgKS5hZGRUbyhtYXBfMjgwNWQ1MGJiODJhNDRkMThiZmIxY2EzMTk3ZDI4ZDgpOwogICAgICAgIAogICAgCiAgICAgICAgICAgIHZhciBtYXJrZXJfMzI3NzZkNjhhMzRhNDY4Y2IwMWQ0NzEwZmQ2YzdiN2UgPSBMLm1hcmtlcigKICAgICAgICAgICAgICAgIFs0MC43NCwgLTczLjk5XSwKICAgICAgICAgICAgICAgIHt9CiAgICAgICAgICAgICkuYWRkVG8obWFwXzI4MDVkNTBiYjgyYTQ0ZDE4YmZiMWNhMzE5N2QyOGQ4KTsKICAgICAgICAKPC9zY3JpcHQ+\" style=\"position:absolute;width:100%;height:100%;left:0;top:0;border:none !important;\" allowfullscreen webkitallowfullscreen mozallowfullscreen></iframe></div></div>"
      ],
      "text/plain": [
       "<folium.folium.Map at 0x1e1f257e7b8>"
      ]
     },
     "execution_count": 60,
     "metadata": {},
     "output_type": "execute_result"
    }
   ],
   "source": [
    "busy_location('Fri',0)"
   ]
  },
  {
   "cell_type": "markdown",
   "metadata": {},
   "source": [
    "# Model to predict fare_amount"
   ]
  },
  {
   "cell_type": "code",
   "execution_count": 61,
   "metadata": {},
   "outputs": [],
   "source": [
    "data_short['day_num'] = data_short[' pickup_datetime'].apply(lambda x: x.dayofweek)"
   ]
  },
  {
   "cell_type": "code",
   "execution_count": 62,
   "metadata": {},
   "outputs": [],
   "source": [
    "data_short['minute'] = data_short[' pickup_datetime'].apply(lambda x: x.minute)\n",
    "data_short['second'] = data_short[' pickup_datetime'].apply(lambda x: x.second)"
   ]
  },
  {
   "cell_type": "code",
   "execution_count": 63,
   "metadata": {},
   "outputs": [],
   "source": [
    "data_short['fare'] = fare_short[' fare_amount']"
   ]
  },
  {
   "cell_type": "code",
   "execution_count": 64,
   "metadata": {},
   "outputs": [],
   "source": [
    "data_short['tip'] = fare_short[' tip_amount']"
   ]
  },
  {
   "cell_type": "code",
   "execution_count": 65,
   "metadata": {},
   "outputs": [
    {
     "data": {
      "text/plain": [
       "<function matplotlib.pyplot.tight_layout(pad=1.08, h_pad=None, w_pad=None, rect=None)>"
      ]
     },
     "execution_count": 65,
     "metadata": {},
     "output_type": "execute_result"
    },
    {
     "data": {
      "image/png": "[encoded data removed]",
      "text/plain": [
       "<Figure size 1440x576 with 2 Axes>"
      ]
     },
     "metadata": {},
     "output_type": "display_data"
    }
   ],
   "source": [
    "plt.figure(figsize=(20,8))\n",
    "sns.heatmap(data_short.corr(), annot=True)\n",
    "plt.tight_layout"
   ]
  },
  {
   "cell_type": "markdown",
   "metadata": {},
   "source": [
    "The main features affecting the fare_amount seems to be trip_time_in_secs, trip_distance and rate_code  "
   ]
  },
  {
   "cell_type": "markdown",
   "metadata": {},
   "source": [
    "# Outliers"
   ]
  },
  {
   "cell_type": "code",
   "execution_count": 66,
   "metadata": {},
   "outputs": [
    {
     "data": {
      "text/plain": [
       "<matplotlib.axes._subplots.AxesSubplot at 0x1e203ad7860>"
      ]
     },
     "execution_count": 66,
     "metadata": {},
     "output_type": "execute_result"
    },
    {
     "data": {
      "image/png": "[encoded data removed]",
      "text/plain": [
       "<Figure size 432x288 with 1 Axes>"
      ]
     },
     "metadata": {},
     "output_type": "display_data"
    }
   ],
   "source": [
    "sns.scatterplot(x='fare', y=' trip_distance', data= data_short)"
   ]
  },
  {
   "cell_type": "markdown",
   "metadata": {},
   "source": [
    "Between the fare and trip_distance there seems instances where the trip_distnace is close to zero and fare still increases, these values would cause errors in our model especially in mean squared error"
   ]
  },
  {
   "cell_type": "code",
   "execution_count": 67,
   "metadata": {},
   "outputs": [],
   "source": [
    "i = data_short[(data_short[' trip_distance']==0) & (data_short['fare']>0)].index # no travel and still fare logged "
   ]
  },
  {
   "cell_type": "code",
   "execution_count": 68,
   "metadata": {},
   "outputs": [],
   "source": [
    "data_short.drop(i,inplace=True) # dropping values where trip distance is zero and fare is still greater than zero "
   ]
  },
  {
   "cell_type": "code",
   "execution_count": 69,
   "metadata": {},
   "outputs": [],
   "source": [
    "i = data_short[(data_short[' trip_distance']>0) & (data_short['fare']==0)].index #free rides"
   ]
  },
  {
   "cell_type": "code",
   "execution_count": 70,
   "metadata": {},
   "outputs": [],
   "source": [
    "data_short.drop(i,inplace=True)"
   ]
  },
  {
   "cell_type": "markdown",
   "metadata": {},
   "source": [
    "Targeting the 100+ fare region for distance below 5 km "
   ]
  },
  {
   "cell_type": "code",
   "execution_count": 71,
   "metadata": {},
   "outputs": [],
   "source": [
    "i = data_short[(data_short[' trip_distance']<5) & (data_short['fare']>100)].index "
   ]
  },
  {
   "cell_type": "code",
   "execution_count": 72,
   "metadata": {},
   "outputs": [],
   "source": [
    "data_short.drop(i,inplace=True)"
   ]
  },
  {
   "cell_type": "markdown",
   "metadata": {},
   "source": [
    "Targeting the fare less then 0- 50 fare  and travelling 40 plus kiloometers"
   ]
  },
  {
   "cell_type": "code",
   "execution_count": 73,
   "metadata": {},
   "outputs": [],
   "source": [
    "i = data_short[(data_short[' trip_distance']>40) & (data_short['fare']<50)].index "
   ]
  },
  {
   "cell_type": "code",
   "execution_count": 74,
   "metadata": {},
   "outputs": [],
   "source": [
    "data_short.drop(i,inplace=True)"
   ]
  },
  {
   "cell_type": "code",
   "execution_count": 75,
   "metadata": {},
   "outputs": [
    {
     "data": {
      "text/plain": [
       "<matplotlib.axes._subplots.AxesSubplot at 0x1e203382d30>"
      ]
     },
     "execution_count": 75,
     "metadata": {},
     "output_type": "execute_result"
    },
    {
     "data": {
      "image/png": "[encoded data removed]",
      "text/plain": [
       "<Figure size 432x288 with 1 Axes>"
      ]
     },
     "metadata": {},
     "output_type": "display_data"
    }
   ],
   "source": [
    "sns.scatterplot(x='fare', y=' trip_time_in_secs', data= data_short)"
   ]
  },
  {
   "cell_type": "code",
   "execution_count": 76,
   "metadata": {},
   "outputs": [],
   "source": [
    "i =data_short[(data_short[' trip_time_in_secs'] == 0) & (data_short['fare']>0)].index"
   ]
  },
  {
   "cell_type": "code",
   "execution_count": 77,
   "metadata": {},
   "outputs": [],
   "source": [
    "data_short.drop(i,inplace=True)"
   ]
  },
  {
   "cell_type": "markdown",
   "metadata": {},
   "source": [
    "Free Rides"
   ]
  },
  {
   "cell_type": "code",
   "execution_count": 78,
   "metadata": {},
   "outputs": [],
   "source": [
    "i =data_short[(data_short[' trip_time_in_secs']>0) & (data_short['fare']==0)].index "
   ]
  },
  {
   "cell_type": "code",
   "execution_count": 79,
   "metadata": {},
   "outputs": [],
   "source": [
    "data_short.drop(i,inplace=True)"
   ]
  },
  {
   "cell_type": "markdown",
   "metadata": {},
   "source": [
    "For 5 min journey the fare that is greater than 100 "
   ]
  },
  {
   "cell_type": "code",
   "execution_count": 80,
   "metadata": {},
   "outputs": [],
   "source": [
    "i =data_short[(data_short[' trip_time_in_secs'] < 300) & (data_short['fare']>100)].index "
   ]
  },
  {
   "cell_type": "code",
   "execution_count": 81,
   "metadata": {},
   "outputs": [],
   "source": [
    "data_short.drop(i,inplace=True)"
   ]
  },
  {
   "cell_type": "code",
   "execution_count": 82,
   "metadata": {},
   "outputs": [
    {
     "data": {
      "text/plain": [
       "<matplotlib.axes._subplots.AxesSubplot at 0x1e20df10550>"
      ]
     },
     "execution_count": 82,
     "metadata": {},
     "output_type": "execute_result"
    },
    {
     "data": {
      "image/png": "[encoded data removed]",
      "text/plain": [
       "<Figure size 432x288 with 1 Axes>"
      ]
     },
     "metadata": {},
     "output_type": "display_data"
    }
   ],
   "source": [
    "sns.scatterplot(x='tip', y=' trip_distance', data= data_short)"
   ]
  },
  {
   "cell_type": "code",
   "execution_count": null,
   "metadata": {},
   "outputs": [],
   "source": [
    "i =data_short[data_short['tip']>100].index\n",
    "data_short.drop(i,inplace=True)"
   ]
  },
  {
   "cell_type": "markdown",
   "metadata": {},
   "source": [
    "Adding feature VTS using get_dummies as vendor_id which has a good correlation with fare"
   ]
  },
  {
   "cell_type": "code",
   "execution_count": 83,
   "metadata": {},
   "outputs": [
    {
     "data": {
      "text/plain": [
       "VTS    549411\n",
       "CMT    441150\n",
       "Name:  vendor_id, dtype: int64"
      ]
     },
     "execution_count": 83,
     "metadata": {},
     "output_type": "execute_result"
    }
   ],
   "source": [
    "data_short[' vendor_id'].value_counts()"
   ]
  },
  {
   "cell_type": "code",
   "execution_count": 84,
   "metadata": {},
   "outputs": [],
   "source": [
    "vendor = pd.get_dummies(data_short[' vendor_id'], drop_first=True)"
   ]
  },
  {
   "cell_type": "code",
   "execution_count": 85,
   "metadata": {},
   "outputs": [],
   "source": [
    "data_short = pd.concat([data_short, vendor], axis=1)"
   ]
  },
  {
   "cell_type": "markdown",
   "metadata": {},
   "source": [
    "#  Random Forest"
   ]
  },
  {
   "cell_type": "code",
   "execution_count": 86,
   "metadata": {},
   "outputs": [],
   "source": [
    "X = data_short[[' pickup_longitude',' pickup_latitude','hour','minute','day_num','VTS',' trip_time_in_secs',' trip_distance',' rate_code']]\n",
    "y= data_short['fare']"
   ]
  },
  {
   "cell_type": "code",
   "execution_count": 87,
   "metadata": {},
   "outputs": [],
   "source": [
    "from sklearn.model_selection import train_test_split"
   ]
  },
  {
   "cell_type": "code",
   "execution_count": 88,
   "metadata": {},
   "outputs": [],
   "source": [
    "X_train, X_test, y_train, y_test = train_test_split(X, y, test_size=0.3)"
   ]
  },
  {
   "cell_type": "code",
   "execution_count": 89,
   "metadata": {},
   "outputs": [],
   "source": [
    "from sklearn.ensemble import RandomForestRegressor"
   ]
  },
  {
   "cell_type": "code",
   "execution_count": 90,
   "metadata": {},
   "outputs": [],
   "source": [
    "model = RandomForestRegressor()"
   ]
  },
  {
   "cell_type": "code",
   "execution_count": 91,
   "metadata": {},
   "outputs": [
    {
     "name": "stderr",
     "output_type": "stream",
     "text": [
      "C:\\Users\\ajay\\Anaconda3\\lib\\site-packages\\sklearn\\ensemble\\forest.py:245: FutureWarning: The default value of n_estimators will change from 10 in version 0.20 to 100 in 0.22.\n",
      "  \"10 in version 0.20 to 100 in 0.22.\", FutureWarning)\n"
     ]
    },
    {
     "data": {
      "text/plain": [
       "RandomForestRegressor(bootstrap=True, criterion='mse', max_depth=None,\n",
       "                      max_features='auto', max_leaf_nodes=None,\n",
       "                      min_impurity_decrease=0.0, min_impurity_split=None,\n",
       "                      min_samples_leaf=1, min_samples_split=2,\n",
       "                      min_weight_fraction_leaf=0.0, n_estimators=10,\n",
       "                      n_jobs=None, oob_score=False, random_state=None,\n",
       "                      verbose=0, warm_start=False)"
      ]
     },
     "execution_count": 91,
     "metadata": {},
     "output_type": "execute_result"
    }
   ],
   "source": [
    "model.fit(X_train,y_train)"
   ]
  },
  {
   "cell_type": "code",
   "execution_count": 92,
   "metadata": {},
   "outputs": [],
   "source": [
    "predictions = model.predict(X_test)"
   ]
  },
  {
   "cell_type": "code",
   "execution_count": 93,
   "metadata": {},
   "outputs": [],
   "source": [
    "from sklearn import metrics"
   ]
  },
  {
   "cell_type": "code",
   "execution_count": 94,
   "metadata": {},
   "outputs": [
    {
     "name": "stdout",
     "output_type": "stream",
     "text": [
      "MAE: 0.44026834225642647\n",
      "MSE: 1.7900544903371483\n",
      "RMSE: 1.33792917986609\n"
     ]
    }
   ],
   "source": [
    "print('MAE:', metrics.mean_absolute_error(y_test, predictions))\n",
    "print('MSE:', metrics.mean_squared_error(y_test, predictions))\n",
    "print('RMSE:', np.sqrt(metrics.mean_squared_error(y_test, predictions)))"
   ]
  }
 ],
 "metadata": {
  "kernelspec": {
   "display_name": "Python 3",
   "language": "python",
   "name": "python3"
  },
  "language_info": {
   "codemirror_mode": {
    "name": "ipython",
    "version": 3
   },
   "file_extension": ".py",
   "mimetype": "text/x-python",
   "name": "python",
   "nbconvert_exporter": "python",
   "pygments_lexer": "ipython3",
   "version": "3.7.3"
  }
 },
 "nbformat": 4,
 "nbformat_minor": 2
}
